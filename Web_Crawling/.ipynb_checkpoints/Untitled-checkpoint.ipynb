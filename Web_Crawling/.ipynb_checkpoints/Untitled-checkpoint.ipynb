{
 "cells": [
  {
   "cell_type": "code",
   "execution_count": null,
   "metadata": {},
   "outputs": [],
   "source": [
    "from selenium import webdriver\n",
    "import time\n",
    "url = 'https://news.naver.com/main/read.nhn?mode=LSD&mid=shm&sid1=102&oid=001&aid=0012154551'\n",
    "\n",
    "#웹 드라이버\n",
    "driver = webdriver.Chrome('./chromedriver.exe')\n",
    "driver.implicitly_wait(30)\n",
    "driver.get(url)\n",
    "\n",
    "#더보기 계속 클릭하기\n",
    "while True:\n",
    "    try:\n",
    "        댓글더보기 = driver.find_element_by_css_selector('span.u_cbox_in_view_comment')\n",
    "        댓글더보기.click()\n",
    "        더보기 = driver.find_element_by_css_selector('span.u_cbox_page_more > /span')\n",
    "        더보기.click()\n",
    "    \n",
    "        time.sleep(1)\n",
    "    except:\n",
    "        break\n",
    "        \n",
    "\n",
    "\n",
    "#댓글추출\n",
    "contents = driver.find_elements_by_css_selector('span.u_cbox_contents')\n",
    "for content in contents:\n",
    "    print(content.text)"
   ]
  }
 ],
 "metadata": {
  "kernelspec": {
   "display_name": "Python 3",
   "language": "python",
   "name": "python3"
  },
  "language_info": {
   "codemirror_mode": {
    "name": "ipython",
    "version": 3
   },
   "file_extension": ".py",
   "mimetype": "text/x-python",
   "name": "python",
   "nbconvert_exporter": "python",
   "pygments_lexer": "ipython3",
   "version": "3.8.3"
  }
 },
 "nbformat": 4,
 "nbformat_minor": 4
}
