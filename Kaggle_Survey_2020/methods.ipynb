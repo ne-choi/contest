{
 "cells": [
  {
   "cell_type": "markdown",
   "metadata": {},
   "source": [
    "## - 카테고리 및 사용 질문 정리\n",
    "\n",
    "\n",
    "### 1. Responses Rate by Country\n",
    "3. 국적 ▷ compeleted\n",
    "\n",
    "### 2. Percentage by Age&Gender\n",
    "1. 나이 ▷ compeleted\n",
    "2. 성별 ▷ compeleted\n",
    "\n",
    "### 3. Level of Education\n",
    "4. 교육 수준 ▷ compeleted\n",
    "5. 현재 직업 ▷ compeleted\n",
    "\n",
    "### 4. Development Environment\n",
    "7. 기반 언어 ▷ compeleted\n",
    "9. 사용 통합 개발 환경 ▷ compeleted\n",
    "\n",
    "### 5. Basic of Machine Learning\n",
    "15. 기계학습법 사용 연수 ▷ compeleted\n",
    "16. 사용하는 머신러닝 프레임워크\n",
    "17. 사용하는 머신러닝 알고리즘\n",
    "\n",
    "18. CV Method ▷ compeleted\n",
    "19. NLP Method ▷ compeleted\n",
    "\n",
    "### 6. Machine Learning in the business\n",
    "22. 기계학습을 비즈니스에 활용하는지 ▷ compeleted\n",
    "\n",
    "### +. Future of Machine Learning\n",
    "28-B. 배우고 싶은 머신러닝  \n",
    "and so on.."
   ]
  },
  {
   "cell_type": "markdown",
   "metadata": {},
   "source": [
    "## - 필요한 작업\n",
    "\n",
    "### 1. 내용 채우기\n",
    "1. 서론\n",
    "   - 나라 선택 이유 + 머신러닝에 관련된 부분 얘기\n",
    "   - 부드럽게 수정해야 함\n",
    "\n",
    "\n",
    "2. 본론\n",
    "   - 미국과 인도 비교하면서 진행해야 함 아직 세부 내용 작성 no\n",
    "   \n",
    "\n",
    "### 2. 시각화\n",
    "1. 그래프 그리기\n",
    "   1. IN [16]: USA 피벗 그래프가 그려지지 않음\n",
    "   2. IN [18], IN[19]와 같이, columns이 여러 개인 답변을 현재처럼 그려도 되는지\n",
    "      - 가능하면 Devolopment Environment 항목의 Q7, Q9, Q10도 해결 가능\n",
    "   3. 아직 그리지 못한 그래프 중, 통합으로 그릴 수 있는 그래프 확인하고 코드 찾기\n",
    "\n",
    "\n",
    "2. 그래프 세부 수정\n",
    "   1. 좌우 파이차트 index별 색상 동일하게 수정하기\n",
    "   2. 연령, 년수 범주는 오름차순으로 설정하기\n",
    "   3. IN [14]: ' 때문에 replace 반영되지 않음\n",
    " "
   ]
  },
  {
   "cell_type": "code",
   "execution_count": null,
   "metadata": {},
   "outputs": [],
   "source": []
  }
 ],
 "metadata": {
  "kernelspec": {
   "display_name": "Python 3",
   "language": "python",
   "name": "python3"
  },
  "language_info": {
   "codemirror_mode": {
    "name": "ipython",
    "version": 3
   },
   "file_extension": ".py",
   "mimetype": "text/x-python",
   "name": "python",
   "nbconvert_exporter": "python",
   "pygments_lexer": "ipython3",
   "version": "3.8.3"
  }
 },
 "nbformat": 4,
 "nbformat_minor": 4
}
