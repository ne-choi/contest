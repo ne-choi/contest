{
 "cells": [
  {
   "cell_type": "code",
   "execution_count": 1,
   "metadata": {
    "ExecuteTime": {
     "end_time": "2021-02-09T13:17:40.638871Z",
     "start_time": "2021-02-09T13:17:38.690192Z"
    }
   },
   "outputs": [],
   "source": [
    "import pandas as pd\n",
    "import matplotlib.pyplot as plt\n",
    "import seaborn as sns"
   ]
  },
  {
   "cell_type": "code",
   "execution_count": 2,
   "metadata": {
    "ExecuteTime": {
     "end_time": "2021-02-09T13:17:41.443448Z",
     "start_time": "2021-02-09T13:17:41.422461Z"
    }
   },
   "outputs": [],
   "source": [
    "# 날짜별 데이터프레임\n",
    "df_200622 = pd.read_csv(\"data/200622.csv\")\n",
    "df_200623 = pd.read_csv(\"data/200623.csv\")\n",
    "df_200624 = pd.read_csv(\"data/200624.csv\")"
   ]
  },
  {
   "cell_type": "code",
   "execution_count": 3,
   "metadata": {
    "ExecuteTime": {
     "end_time": "2021-02-09T13:18:05.005272Z",
     "start_time": "2021-02-09T13:18:04.993281Z"
    }
   },
   "outputs": [
    {
     "data": {
      "text/html": [
       "<div>\n",
       "<style scoped>\n",
       "    .dataframe tbody tr th:only-of-type {\n",
       "        vertical-align: middle;\n",
       "    }\n",
       "\n",
       "    .dataframe tbody tr th {\n",
       "        vertical-align: top;\n",
       "    }\n",
       "\n",
       "    .dataframe thead th {\n",
       "        text-align: right;\n",
       "    }\n",
       "</style>\n",
       "<table border=\"1\" class=\"dataframe\">\n",
       "  <thead>\n",
       "    <tr style=\"text-align: right;\">\n",
       "      <th></th>\n",
       "      <th>지역</th>\n",
       "      <th>측정항목</th>\n",
       "      <th>농도</th>\n",
       "    </tr>\n",
       "  </thead>\n",
       "  <tbody>\n",
       "    <tr>\n",
       "      <th>0</th>\n",
       "      <td>서울</td>\n",
       "      <td>PM10</td>\n",
       "      <td>39</td>\n",
       "    </tr>\n",
       "    <tr>\n",
       "      <th>1</th>\n",
       "      <td>서울</td>\n",
       "      <td>PM2.5</td>\n",
       "      <td>22</td>\n",
       "    </tr>\n",
       "    <tr>\n",
       "      <th>2</th>\n",
       "      <td>경기</td>\n",
       "      <td>PM10</td>\n",
       "      <td>45</td>\n",
       "    </tr>\n",
       "    <tr>\n",
       "      <th>3</th>\n",
       "      <td>경기</td>\n",
       "      <td>PM2.5</td>\n",
       "      <td>24</td>\n",
       "    </tr>\n",
       "    <tr>\n",
       "      <th>4</th>\n",
       "      <td>인천</td>\n",
       "      <td>PM10</td>\n",
       "      <td>35</td>\n",
       "    </tr>\n",
       "  </tbody>\n",
       "</table>\n",
       "</div>"
      ],
      "text/plain": [
       "   지역   측정항목  농도\n",
       "0  서울   PM10  39\n",
       "1  서울  PM2.5  22\n",
       "2  경기   PM10  45\n",
       "3  경기  PM2.5  24\n",
       "4  인천   PM10  35"
      ]
     },
     "execution_count": 3,
     "metadata": {},
     "output_type": "execute_result"
    }
   ],
   "source": [
    "df_200622.head()"
   ]
  },
  {
   "cell_type": "code",
   "execution_count": 4,
   "metadata": {
    "ExecuteTime": {
     "end_time": "2021-02-09T13:17:48.638019Z",
     "start_time": "2021-02-09T13:17:48.627026Z"
    }
   },
   "outputs": [
    {
     "data": {
      "text/html": [
       "<div>\n",
       "<style scoped>\n",
       "    .dataframe tbody tr th:only-of-type {\n",
       "        vertical-align: middle;\n",
       "    }\n",
       "\n",
       "    .dataframe tbody tr th {\n",
       "        vertical-align: top;\n",
       "    }\n",
       "\n",
       "    .dataframe thead th {\n",
       "        text-align: right;\n",
       "    }\n",
       "</style>\n",
       "<table border=\"1\" class=\"dataframe\">\n",
       "  <thead>\n",
       "    <tr style=\"text-align: right;\">\n",
       "      <th></th>\n",
       "      <th>지역</th>\n",
       "      <th>측정항목</th>\n",
       "      <th>농도</th>\n",
       "    </tr>\n",
       "  </thead>\n",
       "  <tbody>\n",
       "    <tr>\n",
       "      <th>0</th>\n",
       "      <td>서울</td>\n",
       "      <td>PM10</td>\n",
       "      <td>42</td>\n",
       "    </tr>\n",
       "    <tr>\n",
       "      <th>1</th>\n",
       "      <td>서울</td>\n",
       "      <td>PM2.5</td>\n",
       "      <td>24</td>\n",
       "    </tr>\n",
       "    <tr>\n",
       "      <th>2</th>\n",
       "      <td>경기</td>\n",
       "      <td>PM10</td>\n",
       "      <td>50</td>\n",
       "    </tr>\n",
       "    <tr>\n",
       "      <th>3</th>\n",
       "      <td>경기</td>\n",
       "      <td>PM2.5</td>\n",
       "      <td>27</td>\n",
       "    </tr>\n",
       "    <tr>\n",
       "      <th>4</th>\n",
       "      <td>인천</td>\n",
       "      <td>PM10</td>\n",
       "      <td>33</td>\n",
       "    </tr>\n",
       "  </tbody>\n",
       "</table>\n",
       "</div>"
      ],
      "text/plain": [
       "   지역   측정항목  농도\n",
       "0  서울   PM10  42\n",
       "1  서울  PM2.5  24\n",
       "2  경기   PM10  50\n",
       "3  경기  PM2.5  27\n",
       "4  인천   PM10  33"
      ]
     },
     "execution_count": 4,
     "metadata": {},
     "output_type": "execute_result"
    }
   ],
   "source": [
    "df_200623.head()"
   ]
  },
  {
   "cell_type": "code",
   "execution_count": 5,
   "metadata": {
    "ExecuteTime": {
     "end_time": "2021-02-09T13:17:55.750649Z",
     "start_time": "2021-02-09T13:17:55.734658Z"
    }
   },
   "outputs": [
    {
     "data": {
      "text/html": [
       "<div>\n",
       "<style scoped>\n",
       "    .dataframe tbody tr th:only-of-type {\n",
       "        vertical-align: middle;\n",
       "    }\n",
       "\n",
       "    .dataframe tbody tr th {\n",
       "        vertical-align: top;\n",
       "    }\n",
       "\n",
       "    .dataframe thead th {\n",
       "        text-align: right;\n",
       "    }\n",
       "</style>\n",
       "<table border=\"1\" class=\"dataframe\">\n",
       "  <thead>\n",
       "    <tr style=\"text-align: right;\">\n",
       "      <th></th>\n",
       "      <th>지역</th>\n",
       "      <th>측정항목</th>\n",
       "      <th>농도</th>\n",
       "    </tr>\n",
       "  </thead>\n",
       "  <tbody>\n",
       "    <tr>\n",
       "      <th>0</th>\n",
       "      <td>서울</td>\n",
       "      <td>PM10</td>\n",
       "      <td>28</td>\n",
       "    </tr>\n",
       "    <tr>\n",
       "      <th>1</th>\n",
       "      <td>서울</td>\n",
       "      <td>PM2.5</td>\n",
       "      <td>19</td>\n",
       "    </tr>\n",
       "    <tr>\n",
       "      <th>2</th>\n",
       "      <td>경기</td>\n",
       "      <td>PM10</td>\n",
       "      <td>31</td>\n",
       "    </tr>\n",
       "    <tr>\n",
       "      <th>3</th>\n",
       "      <td>경기</td>\n",
       "      <td>PM2.5</td>\n",
       "      <td>19</td>\n",
       "    </tr>\n",
       "    <tr>\n",
       "      <th>4</th>\n",
       "      <td>인천</td>\n",
       "      <td>PM10</td>\n",
       "      <td>27</td>\n",
       "    </tr>\n",
       "  </tbody>\n",
       "</table>\n",
       "</div>"
      ],
      "text/plain": [
       "   지역   측정항목  농도\n",
       "0  서울   PM10  28\n",
       "1  서울  PM2.5  19\n",
       "2  경기   PM10  31\n",
       "3  경기  PM2.5  19\n",
       "4  인천   PM10  27"
      ]
     },
     "execution_count": 5,
     "metadata": {},
     "output_type": "execute_result"
    }
   ],
   "source": [
    "df_200624.head()"
   ]
  },
  {
   "cell_type": "code",
   "execution_count": 6,
   "metadata": {
    "ExecuteTime": {
     "end_time": "2021-02-09T13:18:44.176290Z",
     "start_time": "2021-02-09T13:18:44.162300Z"
    }
   },
   "outputs": [],
   "source": [
    "# 시각화 사전 준비\n",
    "sns.set_context(\"talk\")\n",
    "sns.set_style(\"white\")\n",
    "\n",
    "# 한글 사용 준비\n",
    "plt.rcParams['font.family']='NanumGothic'\n",
    "plt.rcParams['axes.unicode_minus'] = False"
   ]
  },
  {
   "cell_type": "code",
   "execution_count": 132,
   "metadata": {},
   "outputs": [
    {
     "data": {
      "image/png": "[encoded data removed]",
      "text/plain": [
       "<Figure size 1440x720 with 3 Axes>"
      ]
     },
     "metadata": {},
     "output_type": "display_data"
    }
   ],
   "source": [
    "# subplots 3개 만들기 (y축 공유 = 세로 동일)\n",
    "fig, axes = plt.subplots(ncols=3, figsize=(20, 10), sharey=True)\n",
    "plt.suptitle('경기도권 24시간 기준 3일 측정',fontsize=30)\n",
    "\n",
    "# 날짜별(22일, 23일, 24일) 그래프 나누기\n",
    "df1 = sns.barplot(x=\"측정항목\", y=\"농도\", hue=\"지역\", palette=\"Set2\", \n",
    "                 data=df_200622, ax=axes[0]);\n",
    "df2 = sns.barplot(x=\"측정항목\", y=\"농도\", hue=\"지역\", palette=\"Set2\", \n",
    "                 data=df_200623, ax=axes[1]);\n",
    "df3 = sns.barplot(x=\"측정항목\", y=\"농도\", hue=\"지역\", palette=\"Set2\", \n",
    "                 data=df_200624, ax=axes[2]);\n",
    "\n",
    "df1.grid(axis=\"y\", color='gainsboro')\n",
    "df2.grid(axis=\"y\", color='gainsboro')\n",
    "df3.grid(axis=\"y\", color='gainsboro')\n",
    "\n",
    "# x축 제목 변경\n",
    "axes[0].set_xlabel(\"2020/06/22\", fontsize=22, fontweight = 'bold')\n",
    "axes[1].set_xlabel(\"2020/06/23\", fontsize=22, fontweight = 'bold')\n",
    "axes[2].set_xlabel(\"2020/06/24\", fontsize=22, fontweight = 'bold')\n",
    "\n",
    "# y축 이름 변경\n",
    "axes[0].set_ylabel(\"㎍/m³\")\n",
    "axes[1].set_ylabel(\"\")\n",
    "axes[2].set_ylabel(\"\")\n",
    "\n",
    "# 그래프가 들어있는 각 박스 삭제\n",
    "sns.despine(bottom=False, left=False, ax=axes[0])\n",
    "sns.despine(bottom=False, left=False, ax=axes[1])\n",
    "sns.despine(bottom=False, left=False, ax=axes[2])\n",
    "\n",
    "df1.spines[\"left\"].set_visible(False)\n",
    "df2.spines[\"left\"].set_visible(False)\n",
    "df3.spines[\"left\"].set_visible(False)\n",
    "\n",
    "df1.spines[\"bottom\"].set_visible(False)\n",
    "df2.spines[\"bottom\"].set_visible(False)\n",
    "df3.spines[\"bottom\"].set_visible(False)\n",
    "\n",
    "# 1번째, 2번째 범례 삭제 (hide legend)\n",
    "axes[0].legend([],[], frameon=False)\n",
    "axes[1].legend([],[], frameon=False)\n",
    "\n",
    "# 그래프 위 수치 나타내기\n",
    "for p in axes[0].patches:\n",
    "    axes[0].annotate(\"%.f\" % p.get_height(),\n",
    "      (p.get_x()+p.get_width()/2, p.get_height() + 2), ha='center', va='top', color='dimgrey', size=18)\n",
    "\n",
    "for p in axes[1].patches:\n",
    "    axes[1].annotate(\"%.f\" % p.get_height(),\n",
    "      (p.get_x()+p.get_width()/2, p.get_height() + 2), ha='center', va='top', color='dimgrey', size=18)\n",
    "\n",
    "for p in axes[2].patches:\n",
    "    axes[2].annotate(\"%.f\" % p.get_height(),\n",
    "      (p.get_x()+p.get_width()/2, p.get_height() + 2), ha='center', va='top', color='dimgrey', size=18)  \n",
    "    "
   ]
  }
 ],
 "metadata": {
  "kernelspec": {
   "display_name": "Python 3",
   "language": "python",
   "name": "python3"
  },
  "language_info": {
   "codemirror_mode": {
    "name": "ipython",
    "version": 3
   },
   "file_extension": ".py",
   "mimetype": "text/x-python",
   "name": "python",
   "nbconvert_exporter": "python",
   "pygments_lexer": "ipython3",
   "version": "3.8.3"
  },
  "toc": {
   "base_numbering": 1,
   "nav_menu": {},
   "number_sections": true,
   "sideBar": true,
   "skip_h1_title": false,
   "title_cell": "Table of Contents",
   "title_sidebar": "Contents",
   "toc_cell": false,
   "toc_position": {},
   "toc_section_display": true,
   "toc_window_display": false
  },
  "varInspector": {
   "cols": {
    "lenName": 16,
    "lenType": 16,
    "lenVar": 40
   },
   "kernels_config": {
    "python": {
     "delete_cmd_postfix": "",
     "delete_cmd_prefix": "del ",
     "library": "var_list.py",
     "varRefreshCmd": "print(var_dic_list())"
    },
    "r": {
     "delete_cmd_postfix": ") ",
     "delete_cmd_prefix": "rm(",
     "library": "var_list.r",
     "varRefreshCmd": "cat(var_dic_list()) "
    }
   },
   "types_to_exclude": [
    "module",
    "function",
    "builtin_function_or_method",
    "instance",
    "_Feature"
   ],
   "window_display": false
  }
 },
 "nbformat": 4,
 "nbformat_minor": 4
}
