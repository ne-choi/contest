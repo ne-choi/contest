{
 "cells": [
  {
   "cell_type": "markdown",
   "metadata": {},
   "source": [
    "## 1. 라이브러리"
   ]
  },
  {
   "cell_type": "code",
   "execution_count": 1,
   "metadata": {},
   "outputs": [],
   "source": [
    "import numpy as np\n",
    "import pandas as pd\n",
    "import seaborn as sns\n",
    "import re\n",
    "import warnings\n",
    "warnings.filterwarnings(action='ignore')\n",
    "\n",
    "from matplotlib import pyplot as plt\n",
    "from matplotlib import rcParams\n",
    "%matplotlib inline\n",
    "\n",
    "from nltk.corpus import stopwords\n",
    "from nltk.tokenize import word_tokenize\n",
    "from pathlib import Path\n",
    "from collections import  Counter\n",
    "\n",
    "from sklearn.linear_model import LogisticRegression\n",
    "from sklearn.metrics import accuracy_score, log_loss\n",
    "from sklearn.model_selection import StratifiedKFold\n",
    "from sklearn.feature_extraction.text import CountVectorizer, TfidfVectorizer, HashingVectorizer\n",
    "\n",
    "import tensorflow as tf\n",
    "from tensorflow.keras.preprocessing.sequence import pad_sequences\n",
    "from tensorflow.keras.preprocessing.text import Tokenizer\n",
    "import re"
   ]
  },
  {
   "cell_type": "markdown",
   "metadata": {},
   "source": [
    "## 2. 데이터 확인하기\n",
    "1. train\n",
    "2. test\n",
    "3. sample_submission"
   ]
  },
  {
   "cell_type": "code",
   "execution_count": 2,
   "metadata": {},
   "outputs": [],
   "source": [
    "# 파일 불러오기\n",
    "train = pd.read_csv('data/train.csv')\n",
    "test = pd.read_csv('data/test_x.csv')\n",
    "sample_submission = pd.read_csv('data/sample_submission.csv', encoding = 'utf-8')"
   ]
  },
  {
   "cell_type": "code",
   "execution_count": 3,
   "metadata": {},
   "outputs": [
    {
     "name": "stdout",
     "output_type": "stream",
     "text": [
      "<class 'pandas.core.frame.DataFrame'>\n",
      "RangeIndex: 54879 entries, 0 to 54878\n",
      "Data columns (total 3 columns):\n",
      " #   Column  Non-Null Count  Dtype \n",
      "---  ------  --------------  ----- \n",
      " 0   index   54879 non-null  int64 \n",
      " 1   text    54879 non-null  object\n",
      " 2   author  54879 non-null  int64 \n",
      "dtypes: int64(2), object(1)\n",
      "memory usage: 1.3+ MB\n"
     ]
    },
    {
     "data": {
      "text/html": [
       "<div>\n",
       "<style scoped>\n",
       "    .dataframe tbody tr th:only-of-type {\n",
       "        vertical-align: middle;\n",
       "    }\n",
       "\n",
       "    .dataframe tbody tr th {\n",
       "        vertical-align: top;\n",
       "    }\n",
       "\n",
       "    .dataframe thead th {\n",
       "        text-align: right;\n",
       "    }\n",
       "</style>\n",
       "<table border=\"1\" class=\"dataframe\">\n",
       "  <thead>\n",
       "    <tr style=\"text-align: right;\">\n",
       "      <th></th>\n",
       "      <th>index</th>\n",
       "      <th>text</th>\n",
       "      <th>author</th>\n",
       "    </tr>\n",
       "  </thead>\n",
       "  <tbody>\n",
       "    <tr>\n",
       "      <th>0</th>\n",
       "      <td>0</td>\n",
       "      <td>He was almost choking. There was so much, so m...</td>\n",
       "      <td>3</td>\n",
       "    </tr>\n",
       "    <tr>\n",
       "      <th>1</th>\n",
       "      <td>1</td>\n",
       "      <td>“Your sister asked for it, I suppose?”</td>\n",
       "      <td>2</td>\n",
       "    </tr>\n",
       "    <tr>\n",
       "      <th>2</th>\n",
       "      <td>2</td>\n",
       "      <td>She was engaged one day as she walked, in per...</td>\n",
       "      <td>1</td>\n",
       "    </tr>\n",
       "    <tr>\n",
       "      <th>3</th>\n",
       "      <td>3</td>\n",
       "      <td>The captain was in the porch, keeping himself ...</td>\n",
       "      <td>4</td>\n",
       "    </tr>\n",
       "    <tr>\n",
       "      <th>4</th>\n",
       "      <td>4</td>\n",
       "      <td>“Have mercy, gentlemen!” odin flung up his han...</td>\n",
       "      <td>3</td>\n",
       "    </tr>\n",
       "  </tbody>\n",
       "</table>\n",
       "</div>"
      ],
      "text/plain": [
       "   index                                               text  author\n",
       "0      0  He was almost choking. There was so much, so m...       3\n",
       "1      1             “Your sister asked for it, I suppose?”       2\n",
       "2      2   She was engaged one day as she walked, in per...       1\n",
       "3      3  The captain was in the porch, keeping himself ...       4\n",
       "4      4  “Have mercy, gentlemen!” odin flung up his han...       3"
      ]
     },
     "execution_count": 3,
     "metadata": {},
     "output_type": "execute_result"
    }
   ],
   "source": [
    "train.info()\n",
    "train.head()"
   ]
  },
  {
   "cell_type": "code",
   "execution_count": 4,
   "metadata": {},
   "outputs": [
    {
     "name": "stdout",
     "output_type": "stream",
     "text": [
      "<class 'pandas.core.frame.DataFrame'>\n",
      "RangeIndex: 19617 entries, 0 to 19616\n",
      "Data columns (total 2 columns):\n",
      " #   Column  Non-Null Count  Dtype \n",
      "---  ------  --------------  ----- \n",
      " 0   index   19617 non-null  int64 \n",
      " 1   text    19617 non-null  object\n",
      "dtypes: int64(1), object(1)\n",
      "memory usage: 306.6+ KB\n"
     ]
    },
    {
     "data": {
      "text/html": [
       "<div>\n",
       "<style scoped>\n",
       "    .dataframe tbody tr th:only-of-type {\n",
       "        vertical-align: middle;\n",
       "    }\n",
       "\n",
       "    .dataframe tbody tr th {\n",
       "        vertical-align: top;\n",
       "    }\n",
       "\n",
       "    .dataframe thead th {\n",
       "        text-align: right;\n",
       "    }\n",
       "</style>\n",
       "<table border=\"1\" class=\"dataframe\">\n",
       "  <thead>\n",
       "    <tr style=\"text-align: right;\">\n",
       "      <th></th>\n",
       "      <th>index</th>\n",
       "      <th>text</th>\n",
       "    </tr>\n",
       "  </thead>\n",
       "  <tbody>\n",
       "    <tr>\n",
       "      <th>0</th>\n",
       "      <td>0</td>\n",
       "      <td>“Not at all. I think she is one of the most ch...</td>\n",
       "    </tr>\n",
       "    <tr>\n",
       "      <th>1</th>\n",
       "      <td>1</td>\n",
       "      <td>\"No,\" replied he, with sudden consciousness, \"...</td>\n",
       "    </tr>\n",
       "    <tr>\n",
       "      <th>2</th>\n",
       "      <td>2</td>\n",
       "      <td>As the lady had stated her intention of scream...</td>\n",
       "    </tr>\n",
       "    <tr>\n",
       "      <th>3</th>\n",
       "      <td>3</td>\n",
       "      <td>“And then suddenly in the silence I heard a so...</td>\n",
       "    </tr>\n",
       "    <tr>\n",
       "      <th>4</th>\n",
       "      <td>4</td>\n",
       "      <td>His conviction remained unchanged. So far as I...</td>\n",
       "    </tr>\n",
       "  </tbody>\n",
       "</table>\n",
       "</div>"
      ],
      "text/plain": [
       "   index                                               text\n",
       "0      0  “Not at all. I think she is one of the most ch...\n",
       "1      1  \"No,\" replied he, with sudden consciousness, \"...\n",
       "2      2  As the lady had stated her intention of scream...\n",
       "3      3  “And then suddenly in the silence I heard a so...\n",
       "4      4  His conviction remained unchanged. So far as I..."
      ]
     },
     "execution_count": 4,
     "metadata": {},
     "output_type": "execute_result"
    }
   ],
   "source": [
    "test.info()\n",
    "test.head()"
   ]
  },
  {
   "cell_type": "code",
   "execution_count": 5,
   "metadata": {},
   "outputs": [
    {
     "data": {
      "text/html": [
       "<div>\n",
       "<style scoped>\n",
       "    .dataframe tbody tr th:only-of-type {\n",
       "        vertical-align: middle;\n",
       "    }\n",
       "\n",
       "    .dataframe tbody tr th {\n",
       "        vertical-align: top;\n",
       "    }\n",
       "\n",
       "    .dataframe thead th {\n",
       "        text-align: right;\n",
       "    }\n",
       "</style>\n",
       "<table border=\"1\" class=\"dataframe\">\n",
       "  <thead>\n",
       "    <tr style=\"text-align: right;\">\n",
       "      <th></th>\n",
       "      <th>index</th>\n",
       "      <th>0</th>\n",
       "      <th>1</th>\n",
       "      <th>2</th>\n",
       "      <th>3</th>\n",
       "      <th>4</th>\n",
       "    </tr>\n",
       "  </thead>\n",
       "  <tbody>\n",
       "    <tr>\n",
       "      <th>0</th>\n",
       "      <td>0</td>\n",
       "      <td>0</td>\n",
       "      <td>0</td>\n",
       "      <td>0</td>\n",
       "      <td>0</td>\n",
       "      <td>0</td>\n",
       "    </tr>\n",
       "    <tr>\n",
       "      <th>1</th>\n",
       "      <td>1</td>\n",
       "      <td>0</td>\n",
       "      <td>0</td>\n",
       "      <td>0</td>\n",
       "      <td>0</td>\n",
       "      <td>0</td>\n",
       "    </tr>\n",
       "    <tr>\n",
       "      <th>2</th>\n",
       "      <td>2</td>\n",
       "      <td>0</td>\n",
       "      <td>0</td>\n",
       "      <td>0</td>\n",
       "      <td>0</td>\n",
       "      <td>0</td>\n",
       "    </tr>\n",
       "    <tr>\n",
       "      <th>3</th>\n",
       "      <td>3</td>\n",
       "      <td>0</td>\n",
       "      <td>0</td>\n",
       "      <td>0</td>\n",
       "      <td>0</td>\n",
       "      <td>0</td>\n",
       "    </tr>\n",
       "    <tr>\n",
       "      <th>4</th>\n",
       "      <td>4</td>\n",
       "      <td>0</td>\n",
       "      <td>0</td>\n",
       "      <td>0</td>\n",
       "      <td>0</td>\n",
       "      <td>0</td>\n",
       "    </tr>\n",
       "    <tr>\n",
       "      <th>...</th>\n",
       "      <td>...</td>\n",
       "      <td>...</td>\n",
       "      <td>...</td>\n",
       "      <td>...</td>\n",
       "      <td>...</td>\n",
       "      <td>...</td>\n",
       "    </tr>\n",
       "    <tr>\n",
       "      <th>19612</th>\n",
       "      <td>19612</td>\n",
       "      <td>0</td>\n",
       "      <td>0</td>\n",
       "      <td>0</td>\n",
       "      <td>0</td>\n",
       "      <td>0</td>\n",
       "    </tr>\n",
       "    <tr>\n",
       "      <th>19613</th>\n",
       "      <td>19613</td>\n",
       "      <td>0</td>\n",
       "      <td>0</td>\n",
       "      <td>0</td>\n",
       "      <td>0</td>\n",
       "      <td>0</td>\n",
       "    </tr>\n",
       "    <tr>\n",
       "      <th>19614</th>\n",
       "      <td>19614</td>\n",
       "      <td>0</td>\n",
       "      <td>0</td>\n",
       "      <td>0</td>\n",
       "      <td>0</td>\n",
       "      <td>0</td>\n",
       "    </tr>\n",
       "    <tr>\n",
       "      <th>19615</th>\n",
       "      <td>19615</td>\n",
       "      <td>0</td>\n",
       "      <td>0</td>\n",
       "      <td>0</td>\n",
       "      <td>0</td>\n",
       "      <td>0</td>\n",
       "    </tr>\n",
       "    <tr>\n",
       "      <th>19616</th>\n",
       "      <td>19616</td>\n",
       "      <td>0</td>\n",
       "      <td>0</td>\n",
       "      <td>0</td>\n",
       "      <td>0</td>\n",
       "      <td>0</td>\n",
       "    </tr>\n",
       "  </tbody>\n",
       "</table>\n",
       "<p>19617 rows × 6 columns</p>\n",
       "</div>"
      ],
      "text/plain": [
       "       index  0  1  2  3  4\n",
       "0          0  0  0  0  0  0\n",
       "1          1  0  0  0  0  0\n",
       "2          2  0  0  0  0  0\n",
       "3          3  0  0  0  0  0\n",
       "4          4  0  0  0  0  0\n",
       "...      ... .. .. .. .. ..\n",
       "19612  19612  0  0  0  0  0\n",
       "19613  19613  0  0  0  0  0\n",
       "19614  19614  0  0  0  0  0\n",
       "19615  19615  0  0  0  0  0\n",
       "19616  19616  0  0  0  0  0\n",
       "\n",
       "[19617 rows x 6 columns]"
      ]
     },
     "execution_count": 5,
     "metadata": {},
     "output_type": "execute_result"
    }
   ],
   "source": [
    "sample_submission"
   ]
  },
  {
   "cell_type": "markdown",
   "metadata": {},
   "source": [
    "## 3. 데이터 전처리\n",
    "1. **클렌징**: 자연어 처리에 불필요한 부호 제거, 대문자 → 소문자 변환\n",
    "2. **스톱워즈 제거**: 자연어 처리에 혼동을 줄 수 있는 stopwords 제거\n",
    "\n",
    "\n",
    "**- 클렌징**"
   ]
  },
  {
   "cell_type": "code",
   "execution_count": 6,
   "metadata": {},
   "outputs": [],
   "source": [
    "# 클렌징: 부호 제거, 소문자 변환\n",
    "def alpha_num(text):\n",
    "    return re.sub(r'[^A-Za-z0-9 ]', '', text.lower())\n",
    "\n",
    "train['text']=train['text'].apply(alpha_num)"
   ]
  },
  {
   "cell_type": "code",
   "execution_count": 7,
   "metadata": {
    "scrolled": true
   },
   "outputs": [
    {
     "data": {
      "text/html": [
       "<div>\n",
       "<style scoped>\n",
       "    .dataframe tbody tr th:only-of-type {\n",
       "        vertical-align: middle;\n",
       "    }\n",
       "\n",
       "    .dataframe tbody tr th {\n",
       "        vertical-align: top;\n",
       "    }\n",
       "\n",
       "    .dataframe thead th {\n",
       "        text-align: right;\n",
       "    }\n",
       "</style>\n",
       "<table border=\"1\" class=\"dataframe\">\n",
       "  <thead>\n",
       "    <tr style=\"text-align: right;\">\n",
       "      <th></th>\n",
       "      <th>index</th>\n",
       "      <th>text</th>\n",
       "      <th>author</th>\n",
       "    </tr>\n",
       "  </thead>\n",
       "  <tbody>\n",
       "    <tr>\n",
       "      <th>0</th>\n",
       "      <td>0</td>\n",
       "      <td>he was almost choking there was so much so muc...</td>\n",
       "      <td>3</td>\n",
       "    </tr>\n",
       "    <tr>\n",
       "      <th>1</th>\n",
       "      <td>1</td>\n",
       "      <td>your sister asked for it i suppose</td>\n",
       "      <td>2</td>\n",
       "    </tr>\n",
       "    <tr>\n",
       "      <th>2</th>\n",
       "      <td>2</td>\n",
       "      <td>she was engaged one day as she walked in peru...</td>\n",
       "      <td>1</td>\n",
       "    </tr>\n",
       "    <tr>\n",
       "      <th>3</th>\n",
       "      <td>3</td>\n",
       "      <td>the captain was in the porch keeping himself c...</td>\n",
       "      <td>4</td>\n",
       "    </tr>\n",
       "    <tr>\n",
       "      <th>4</th>\n",
       "      <td>4</td>\n",
       "      <td>have mercy gentlemen odin flung up his hands d...</td>\n",
       "      <td>3</td>\n",
       "    </tr>\n",
       "    <tr>\n",
       "      <th>...</th>\n",
       "      <td>...</td>\n",
       "      <td>...</td>\n",
       "      <td>...</td>\n",
       "    </tr>\n",
       "    <tr>\n",
       "      <th>54874</th>\n",
       "      <td>54874</td>\n",
       "      <td>is that you mr smith odin whispered i hardly d...</td>\n",
       "      <td>2</td>\n",
       "    </tr>\n",
       "    <tr>\n",
       "      <th>54875</th>\n",
       "      <td>54875</td>\n",
       "      <td>i told my plan to the captain and between us w...</td>\n",
       "      <td>4</td>\n",
       "    </tr>\n",
       "    <tr>\n",
       "      <th>54876</th>\n",
       "      <td>54876</td>\n",
       "      <td>your sincere wellwisher friend and sister luc...</td>\n",
       "      <td>1</td>\n",
       "    </tr>\n",
       "    <tr>\n",
       "      <th>54877</th>\n",
       "      <td>54877</td>\n",
       "      <td>then you wanted me to lend you money</td>\n",
       "      <td>3</td>\n",
       "    </tr>\n",
       "    <tr>\n",
       "      <th>54878</th>\n",
       "      <td>54878</td>\n",
       "      <td>it certainly had not occurred to me before but...</td>\n",
       "      <td>0</td>\n",
       "    </tr>\n",
       "  </tbody>\n",
       "</table>\n",
       "<p>54879 rows × 3 columns</p>\n",
       "</div>"
      ],
      "text/plain": [
       "       index                                               text  author\n",
       "0          0  he was almost choking there was so much so muc...       3\n",
       "1          1                 your sister asked for it i suppose       2\n",
       "2          2   she was engaged one day as she walked in peru...       1\n",
       "3          3  the captain was in the porch keeping himself c...       4\n",
       "4          4  have mercy gentlemen odin flung up his hands d...       3\n",
       "...      ...                                                ...     ...\n",
       "54874  54874  is that you mr smith odin whispered i hardly d...       2\n",
       "54875  54875  i told my plan to the captain and between us w...       4\n",
       "54876  54876   your sincere wellwisher friend and sister luc...       1\n",
       "54877  54877               then you wanted me to lend you money       3\n",
       "54878  54878  it certainly had not occurred to me before but...       0\n",
       "\n",
       "[54879 rows x 3 columns]"
      ]
     },
     "execution_count": 7,
     "metadata": {},
     "output_type": "execute_result"
    }
   ],
   "source": [
    "train"
   ]
  },
  {
   "cell_type": "markdown",
   "metadata": {},
   "source": [
    "- 결과\n",
    "  - 문장 부호가 모두 제거, 전체 문장에 소문자만 존재\n",
    "    \n",
    "<br>\n",
    "\n",
    "**- 스톱워즈 제거**"
   ]
  },
  {
   "cell_type": "code",
   "execution_count": 8,
   "metadata": {
    "scrolled": false
   },
   "outputs": [
    {
     "data": {
      "image/png": "[encoded data removed]",
      "text/plain": [
       "<Figure size 432x288 with 1 Axes>"
      ]
     },
     "metadata": {
      "needs_background": "light"
     },
     "output_type": "display_data"
    }
   ],
   "source": [
    "# 스톱워즈 제거\n",
    "def plot_top_stopwords_barchart(text):\n",
    "    stop=set(stopwords.words('english'))\n",
    "    \n",
    "    new= text.str.split()\n",
    "    new=new.values.tolist()\n",
    "    corpus=[word for i in new for word in i]\n",
    "    from collections import defaultdict\n",
    "    dic=defaultdict(int)\n",
    "    for word in corpus:\n",
    "        if word in stop:\n",
    "            dic[word]+=1\n",
    "            \n",
    "    top=sorted(dic.items(), key=lambda x:x[1],reverse=True)[:20] \n",
    "    x,y=zip(*top)\n",
    "    plt.bar(x,y)\n",
    "\n",
    "plot_top_stopwords_barchart(train['text'])  "
   ]
  },
  {
   "cell_type": "code",
   "execution_count": 9,
   "metadata": {
    "scrolled": true
   },
   "outputs": [
    {
     "data": {
      "image/png": "[encoded data removed]",
      "text/plain": [
       "<Figure size 1440x720 with 5 Axes>"
      ]
     },
     "metadata": {
      "needs_background": "light"
     },
     "output_type": "display_data"
    }
   ],
   "source": [
    "fig = plt.figure(figsize=(20,10)) # rows*cols 행렬의 i번째 subplot 생성\n",
    "rows = 2\n",
    "cols = 3\n",
    "i = 1\n",
    "\n",
    "def plot_top_stopwords_barchart2(text):\n",
    "    stop=set(stopwords.words('english'))\n",
    "    \n",
    "    new = text.str.split()\n",
    "    new = new.values.tolist()\n",
    "    corpus=[word for i in new for word in i]\n",
    "    from collections import defaultdict\n",
    "    dic=defaultdict(int)\n",
    "    for word in corpus:\n",
    "        if word in stop:\n",
    "            dic[word]+=1\n",
    "            \n",
    "    top=sorted(dic.items(), key=lambda x:x[1],reverse=True)[:20] \n",
    "    x,y=zip(*top)\n",
    "    return x, y\n",
    "\n",
    "for i in range(5):\n",
    "    x,y = plot_top_stopwords_barchart2(train[train['author']==i]['text'])\n",
    "    ax = fig.add_subplot(rows, cols, i+1)\n",
    "    ax.set_title(i)\n",
    "    ax.bar(x,y)"
   ]
  },
  {
   "cell_type": "markdown",
   "metadata": {},
   "source": [
    "- 결과\n",
    "  - 제거할 stopwords 선정: the, and, i, to, of, a, in, to, had, he, that, you, was, with, form, his, as, odin, said"
   ]
  },
  {
   "cell_type": "code",
   "execution_count": 10,
   "metadata": {},
   "outputs": [],
   "source": [
    "# 불용어 제거 함수\n",
    "def remove_stopwords(text):\n",
    "    final_text = []\n",
    "    for i in text.split():\n",
    "        if i.strip().lower() not in stopwords:\n",
    "            final_text.append(i.strip())\n",
    "    return \" \".join(final_text)\n",
    "\n",
    "# 불용어\n",
    "stopwords = ['the', 'and', 'i', 'to', 'of', 'a', 'in', 'to', 'had', 'he',\n",
    "             'that', 'you', 'was', 'with', 'form', 'his', 'as', 'odin', 'said']"
   ]
  },
  {
   "cell_type": "code",
   "execution_count": 11,
   "metadata": {},
   "outputs": [],
   "source": [
    "# test 세트도 소문자로 변환\n",
    "train['text'] = train['text'].apply(alpha_num).apply(remove_stopwords)\n",
    "\n",
    "test['text'] = test['text'].str.lower()\n",
    "test['text'] = test['text'].apply(alpha_num).apply(remove_stopwords)"
   ]
  },
  {
   "cell_type": "code",
   "execution_count": 12,
   "metadata": {},
   "outputs": [],
   "source": [
    "# train - test 분리\n",
    "X_train = np.array([x for x in train['text']])\n",
    "X_test = np.array([x for x in test['text']])\n",
    "y_train = np.array([x for x in train['author']])"
   ]
  },
  {
   "cell_type": "code",
   "execution_count": 13,
   "metadata": {},
   "outputs": [
    {
     "data": {
      "text/plain": [
       "array(['almost choking there so much so much wanted say but strange exclamations were all came from lips pole gazed fixedly at him at bundle notes hand looked at evident perplexity',\n",
       "       'your sister asked for it suppose',\n",
       "       'she engaged one day she walked perusing janes last letter dwelling on some passages which proved jane not written spirits when instead being again surprised by mr she saw on looking up meeting her putting away letter immediately forcing smile she',\n",
       "       ..., 'your sincere wellwisher friend sister lucy',\n",
       "       'then wanted me lend money',\n",
       "       'it certainly not occurred me before but yes should like'],\n",
       "      dtype='<U1875')"
      ]
     },
     "execution_count": 13,
     "metadata": {},
     "output_type": "execute_result"
    }
   ],
   "source": [
    "X_train"
   ]
  },
  {
   "cell_type": "markdown",
   "metadata": {},
   "source": [
    "## 4. 모델링"
   ]
  },
  {
   "cell_type": "code",
   "execution_count": 14,
   "metadata": {},
   "outputs": [],
   "source": [
    "import numpy as np\n",
    "import nltk\n",
    "from nltk.corpus import stopwords\n",
    "import gensim\n",
    "from nltk.stem import WordNetLemmatizer,PorterStemmer\n",
    "from nltk.tokenize import word_tokenize\n",
    "import pyLDAvis.gensim\n",
    "\n",
    "NUM_TOPICS = 5\n",
    "\n",
    "def get_lda_objects(text):\n",
    "    nltk.download('stopwords')    \n",
    "    stop=set(stopwords.words('english'))\n",
    "\n",
    "    \n",
    "    def _preprocess_text(text):\n",
    "        corpus=[]\n",
    "        stem=PorterStemmer()\n",
    "        lem=WordNetLemmatizer()\n",
    "        for news in text:\n",
    "            words=[w for w in word_tokenize(news) if (w not in stop)]\n",
    "\n",
    "            words=[lem.lemmatize(w) for w in words if len(w)>2]\n",
    "\n",
    "            corpus.append(words)\n",
    "        return corpus\n",
    "    \n",
    "    corpus=_preprocess_text(text)\n",
    "    \n",
    "    dic=gensim.corpora.Dictionary(corpus)\n",
    "    bow_corpus = [dic.doc2bow(doc) for doc in corpus]\n",
    "    \n",
    "    lda_model =  gensim.models.LdaMulticore(bow_corpus, \n",
    "                                   num_topics = NUM_TOPICS, \n",
    "                                   id2word = dic,                                    \n",
    "                                   passes = 10,\n",
    "                                   workers = 2)\n",
    "    \n",
    "    return lda_model, bow_corpus, dic\n",
    "\n",
    "def plot_lda_vis(lda_model, bow_corpus, dic):\n",
    "    pyLDAvis.enable_notebook()\n",
    "    vis = pyLDAvis.gensim.prepare(lda_model, bow_corpus, dic)\n",
    "    return vis"
   ]
  },
  {
   "cell_type": "code",
   "execution_count": null,
   "metadata": {},
   "outputs": [
    {
     "name": "stderr",
     "output_type": "stream",
     "text": [
      "[nltk_data] Downloading package stopwords to\n",
      "[nltk_data]     C:\\Users\\naeun\\AppData\\Roaming\\nltk_data...\n",
      "[nltk_data]   Package stopwords is already up-to-date!\n"
     ]
    }
   ],
   "source": [
    "lda_model, bow_corpus, dic = get_lda_objects(train['text'])"
   ]
  },
  {
   "cell_type": "code",
   "execution_count": null,
   "metadata": {},
   "outputs": [],
   "source": [
    "lda_model.show_topics()"
   ]
  },
  {
   "cell_type": "code",
   "execution_count": null,
   "metadata": {
    "scrolled": true
   },
   "outputs": [],
   "source": [
    "plot_lda_vis(lda_model, bow_corpus, dic)"
   ]
  },
  {
   "cell_type": "code",
   "execution_count": null,
   "metadata": {},
   "outputs": [],
   "source": [
    "# predict values\n",
    "pred1 = model.plot_lda_vis"
   ]
  },
  {
   "cell_type": "markdown",
   "metadata": {},
   "source": [
    "# 잠깐!"
   ]
  },
  {
   "cell_type": "code",
   "execution_count": 16,
   "metadata": {},
   "outputs": [],
   "source": [
    "#파라미터 설정\n",
    "vocab_size = 20000\n",
    "embedding_dim = 16\n",
    "max_length = 500\n",
    "padding_type='post'\n",
    "#oov_tok = \"<OOV>\""
   ]
  },
  {
   "cell_type": "code",
   "execution_count": 17,
   "metadata": {},
   "outputs": [],
   "source": [
    "#tokenizer에 fit\n",
    "tokenizer = Tokenizer(num_words = vocab_size) # oov_token=oov_tok)\n",
    "tokenizer.fit_on_texts(X_train)\n",
    "word_index = tokenizer.word_index"
   ]
  },
  {
   "cell_type": "code",
   "execution_count": 18,
   "metadata": {},
   "outputs": [],
   "source": [
    "#데이터를 sequence로 변환 후 padding\n",
    "train_sequences = tokenizer.texts_to_sequences(X_train)\n",
    "train_padded = pad_sequences(train_sequences, padding=padding_type, maxlen=max_length)\n",
    "\n",
    "test_sequences = tokenizer.texts_to_sequences(X_test)\n",
    "test_padded = pad_sequences(test_sequences, padding=padding_type, maxlen=max_length)"
   ]
  },
  {
   "cell_type": "code",
   "execution_count": 28,
   "metadata": {},
   "outputs": [],
   "source": [
    "#가벼운 NLP모델 생성\n",
    "model = tf.keras.Sequential([\n",
    "    tf.keras.layers.Embedding(vocab_size, embedding_dim, input_length=max_length),\n",
    "    tf.keras.layers.GlobalAveragePooling1D(),\n",
    "    tf.keras.layers.Dense(24, activation='relu'),\n",
    "    tf.keras.layers.Dense(15, activation='relu'),\n",
    "    tf.keras.layers.Dense(5, activation='softmax')\n",
    "])"
   ]
  },
  {
   "cell_type": "code",
   "execution_count": 29,
   "metadata": {},
   "outputs": [
    {
     "name": "stdout",
     "output_type": "stream",
     "text": [
      "Model: \"sequential_1\"\n",
      "_________________________________________________________________\n",
      "Layer (type)                 Output Shape              Param #   \n",
      "=================================================================\n",
      "embedding_1 (Embedding)      (None, 500, 16)           320000    \n",
      "_________________________________________________________________\n",
      "global_average_pooling1d_1 ( (None, 16)                0         \n",
      "_________________________________________________________________\n",
      "dense_2 (Dense)              (None, 24)                408       \n",
      "_________________________________________________________________\n",
      "dense_3 (Dense)              (None, 15)                375       \n",
      "_________________________________________________________________\n",
      "dense_4 (Dense)              (None, 5)                 80        \n",
      "=================================================================\n",
      "Total params: 320,863\n",
      "Trainable params: 320,863\n",
      "Non-trainable params: 0\n",
      "_________________________________________________________________\n",
      "None\n"
     ]
    }
   ],
   "source": [
    "# compile model\n",
    "model.compile(loss='sparse_categorical_crossentropy',\n",
    "              optimizer='adam',\n",
    "              metrics=['accuracy'])\n",
    "\n",
    "# model summary\n",
    "print(model.summary())"
   ]
  },
  {
   "cell_type": "code",
   "execution_count": 36,
   "metadata": {},
   "outputs": [
    {
     "name": "stdout",
     "output_type": "stream",
     "text": [
      "Epoch 1/20\n",
      "1372/1372 - 15s - loss: 0.3133 - accuracy: 0.8845 - val_loss: 1.3289 - val_accuracy: 0.6737\n",
      "Epoch 2/20\n",
      "1372/1372 - 15s - loss: 0.3062 - accuracy: 0.8869 - val_loss: 1.2911 - val_accuracy: 0.6851\n",
      "Epoch 3/20\n",
      "1372/1372 - 14s - loss: 0.3059 - accuracy: 0.8871 - val_loss: 1.4505 - val_accuracy: 0.6659\n",
      "Epoch 4/20\n",
      "1372/1372 - 14s - loss: 0.2980 - accuracy: 0.8898 - val_loss: 1.3338 - val_accuracy: 0.6750\n",
      "Epoch 5/20\n",
      "1372/1372 - 13s - loss: 0.2966 - accuracy: 0.8912 - val_loss: 1.3203 - val_accuracy: 0.6761\n",
      "Epoch 6/20\n",
      "1372/1372 - 14s - loss: 0.2897 - accuracy: 0.8941 - val_loss: 1.3323 - val_accuracy: 0.6867\n",
      "Epoch 7/20\n",
      "1372/1372 - 14s - loss: 0.2871 - accuracy: 0.8952 - val_loss: 1.3275 - val_accuracy: 0.6885\n",
      "Epoch 8/20\n",
      "1372/1372 - 14s - loss: 0.2834 - accuracy: 0.8954 - val_loss: 1.3247 - val_accuracy: 0.6887\n",
      "Epoch 9/20\n",
      "1372/1372 - 15s - loss: 0.2750 - accuracy: 0.8991 - val_loss: 1.2851 - val_accuracy: 0.6974\n",
      "Epoch 10/20\n",
      "1372/1372 - 17s - loss: 0.2747 - accuracy: 0.8991 - val_loss: 1.3049 - val_accuracy: 0.6890\n",
      "Epoch 11/20\n",
      "1372/1372 - 15s - loss: 0.2722 - accuracy: 0.9001 - val_loss: 1.2773 - val_accuracy: 0.6985\n",
      "Epoch 12/20\n",
      "1372/1372 - 15s - loss: 0.2649 - accuracy: 0.9024 - val_loss: 1.3092 - val_accuracy: 0.6973\n",
      "Epoch 13/20\n",
      "1372/1372 - 12s - loss: 0.2628 - accuracy: 0.9032 - val_loss: 1.3616 - val_accuracy: 0.6993\n",
      "Epoch 14/20\n",
      "1372/1372 - 12s - loss: 0.2610 - accuracy: 0.9041 - val_loss: 1.2896 - val_accuracy: 0.6970\n",
      "Epoch 15/20\n",
      "1372/1372 - 9s - loss: 0.2508 - accuracy: 0.9073 - val_loss: 1.3172 - val_accuracy: 0.6962\n",
      "Epoch 16/20\n",
      "1372/1372 - 7s - loss: 0.2500 - accuracy: 0.9087 - val_loss: 1.4109 - val_accuracy: 0.6991\n",
      "Epoch 17/20\n",
      "1372/1372 - 8s - loss: 0.2493 - accuracy: 0.9073 - val_loss: 1.3330 - val_accuracy: 0.6931\n",
      "Epoch 18/20\n",
      "1372/1372 - 7s - loss: 0.2451 - accuracy: 0.9100 - val_loss: 1.2878 - val_accuracy: 0.7065\n",
      "Epoch 19/20\n",
      "1372/1372 - 8s - loss: 0.2417 - accuracy: 0.9106 - val_loss: 1.3183 - val_accuracy: 0.7063\n",
      "Epoch 20/20\n",
      "1372/1372 - 8s - loss: 0.2364 - accuracy: 0.9129 - val_loss: 1.3332 - val_accuracy: 0.6981\n"
     ]
    }
   ],
   "source": [
    "# fit model\n",
    "num_epochs = 20\n",
    "history = model.fit(train_padded, y_train, \n",
    "                    epochs=num_epochs, verbose=2, \n",
    "                    validation_split=0.2)"
   ]
  },
  {
   "cell_type": "code",
   "execution_count": 31,
   "metadata": {
    "scrolled": true
   },
   "outputs": [],
   "source": [
    "# predict values\n",
    "pred = model.predict_proba(test_padded)"
   ]
  },
  {
   "cell_type": "code",
   "execution_count": 32,
   "metadata": {},
   "outputs": [
    {
     "data": {
      "text/plain": [
       "(19617, 5)"
      ]
     },
     "execution_count": 32,
     "metadata": {},
     "output_type": "execute_result"
    }
   ],
   "source": [
    "pred.shape"
   ]
  },
  {
   "cell_type": "code",
   "execution_count": 33,
   "metadata": {
    "scrolled": true
   },
   "outputs": [
    {
     "data": {
      "text/plain": [
       "array([[1.46206588e-07, 9.98450398e-01, 1.52628194e-03, 1.07785695e-06,\n",
       "        2.21632836e-05],\n",
       "       [3.21763754e-03, 2.08666265e-01, 1.25340344e-02, 7.65605152e-01,\n",
       "        9.97683499e-03],\n",
       "       [9.99999166e-01, 2.76955422e-17, 1.13774448e-07, 7.24109037e-11,\n",
       "        7.12587962e-07],\n",
       "       ...,\n",
       "       [1.99380210e-07, 9.98935044e-01, 1.00363011e-03, 1.15777175e-06,\n",
       "        5.98723091e-05],\n",
       "       [2.72524829e-08, 9.99454796e-01, 4.34582005e-04, 9.81223192e-09,\n",
       "        1.10543595e-04],\n",
       "       [9.99999523e-01, 5.97063974e-21, 1.62396084e-12, 5.71678704e-09,\n",
       "        4.98118538e-07]], dtype=float32)"
      ]
     },
     "execution_count": 33,
     "metadata": {},
     "output_type": "execute_result"
    }
   ],
   "source": [
    "pred"
   ]
  },
  {
   "cell_type": "code",
   "execution_count": 25,
   "metadata": {
    "scrolled": true
   },
   "outputs": [
    {
     "data": {
      "text/plain": [
       "19617"
      ]
     },
     "execution_count": 25,
     "metadata": {},
     "output_type": "execute_result"
    }
   ],
   "source": [
    "len(pred)"
   ]
  },
  {
   "cell_type": "code",
   "execution_count": 34,
   "metadata": {
    "scrolled": false
   },
   "outputs": [],
   "source": [
    "sample_submission[['0','1','2','3','4']] = pred"
   ]
  },
  {
   "cell_type": "code",
   "execution_count": 35,
   "metadata": {},
   "outputs": [],
   "source": [
    "sample_submission.to_csv('submission_40.csv', index = False, encoding = 'utf-8')"
   ]
  },
  {
   "cell_type": "code",
   "execution_count": null,
   "metadata": {},
   "outputs": [],
   "source": []
  }
 ],
 "metadata": {
  "kernelspec": {
   "display_name": "Python 3",
   "language": "python",
   "name": "python3"
  },
  "language_info": {
   "codemirror_mode": {
    "name": "ipython",
    "version": 3
   },
   "file_extension": ".py",
   "mimetype": "text/x-python",
   "name": "python",
   "nbconvert_exporter": "python",
   "pygments_lexer": "ipython3",
   "version": "3.8.3"
  }
 },
 "nbformat": 4,
 "nbformat_minor": 4
}
